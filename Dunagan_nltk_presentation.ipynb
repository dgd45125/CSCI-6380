{
 "cells": [
  {
   "cell_type": "markdown",
   "metadata": {},
   "source": [
    "# What is NLTK?\n",
    "- Natural Language Tool Kit\n",
    "- Developed by Steven Bird and Edward Loper at the University of Pennsylvania in 2001\n",
    "- Suite of libraries for *natural language processing* (NLP), primarily text analysis\n",
    "- Includes 10 gigabytes of *corpora* (collections of written text) and tools such as parsers, tokenizers, stemmers, lemmatizers, regular expression processors, etc\n",
    "- Documentation can be found at *http://www.nltk.org/*\n",
    "- Examples inspired by *https://likegeeks.com/nlp-tutorial-using-python-nltk/* and taken from *http://www.nltk.org/*\n",
    "- Data scraped from *http://twinearth.net/wk/doku.php/home*"
   ]
  },
  {
   "cell_type": "markdown",
   "metadata": {},
   "source": [
    "## What is NLP?\n",
    "- NLP is the ability for computers to understand, interpret, and manipulate human language\n",
    "- NLP is a component of *artificial intelligence* (AI)\n",
    "- A combination of many fields including: linguistics, computer science, AI, and congnitive science\n",
    "- Tasks include: syntactic and semantic parsing, text mining, and sentiment analysis\n",
    "- Applications include: webpage indexing by search engines, topic modeling, spam email filtering, and automatic voice transcription\n",
    "- It is estimated that 80% of all data is unstructured with the majority of this being text"
   ]
  },
  {
   "cell_type": "markdown",
   "metadata": {},
   "source": [
    "# NLP as a tool for the indexing of webpages by search engines"
   ]
  },
  {
   "cell_type": "markdown",
   "metadata": {},
   "source": [
    "### Scraping Dr. Maier's website\n",
    "- Requests package for retrieving html\n",
    "- BeautifulSoup for parsing html"
   ]
  },
  {
   "cell_type": "code",
   "execution_count": 48,
   "metadata": {},
   "outputs": [],
   "source": [
    "import requests\n",
    "from bs4 import BeautifulSoup\n",
    "\n",
    "target_url = 'http://twinearth.net/wk/doku.php/home'\n",
    "response = requests.post(target_url)\n",
    "soup = BeautifulSoup(response.text, \"html5lib\") \n",
    "\n",
    "divs = soup.div.div.find_all('div')\n",
    "\n",
    "name = (divs[9].find_all('h3'))[0].string\n",
    "\n",
    "list_of_destinations = []\n",
    "list_of_links = []\n",
    "\n",
    "links = divs[9].find_all('li')\n",
    "for i in range(5):\n",
    "    list_of_links.append(links[i].a.get(\"href\"))\n",
    "    list_of_destinations.append(links[i].span.string)\n",
    "    \n",
    "paragraphs = soup.body.find_all('p')[:2]\n",
    "\n",
    "for p in paragraphs:\n",
    "    links = p.find_all('a')\n",
    "    for i in links:\n",
    "        list_of_destinations.append(i.get_text())\n",
    "        list_of_links.append(i.get('href'))"
   ]
  },
  {
   "cell_type": "markdown",
   "metadata": {},
   "source": [
    "### Text pulled from html"
   ]
  },
  {
   "cell_type": "code",
   "execution_count": 65,
   "metadata": {},
   "outputs": [
    {
     "name": "stdout",
     "output_type": "stream",
     "text": [
      "Frederick Maier\n",
      "\n",
      "I am the Associate Director of and an Assistant Research Scientist at UGA's Institute for Artificial Intelligence. Before that, I was a Lecturer in UGA's Computer Science Department.  I've also been a research fellow at Aston Business School in Birmingham, England, a postdoc at the Florida Institute for Human and Machine Cognition and a visiting researcher in the Kno.e.sis Center of Wright State University. \n",
      "\n",
      "My research is in logic and artificial intelligence, particularly knowledge representation and nonclassical (nonmonotonic and paraconistent) reasoning.  I have a PhD in computer science and a master's degree in artificial intelligence, both from UGA. Before computer science and artificial intelligence, I studied philosophy at Tulane University in New Orleans.\n",
      "\n"
     ]
    }
   ],
   "source": [
    "raw_text = paragraphs[0].get_text() + paragraphs[1].get_text()\n",
    "print (name)\n",
    "print(raw_text)"
   ]
  },
  {
   "cell_type": "markdown",
   "metadata": {},
   "source": [
    "### Scraped links that could be followed in order to extract more text and links"
   ]
  },
  {
   "cell_type": "code",
   "execution_count": 50,
   "metadata": {},
   "outputs": [
    {
     "name": "stdout",
     "output_type": "stream",
     "text": [
      "Home : http://twinearth.net/wk/doku.php/home\n",
      "Curriculum Vitae : http://twinearth.net/wk/doku.php/cv\n",
      "Teaching : http://twinearth.net/wk/doku.php/teaching\n",
      "Contact : http://twinearth.net/wk/doku.php/contact\n",
      "UGA AI Institute : http://www.ai.uga.edu\n",
      "Institute for Artificial Intelligence : http://ai.uga.edu\n",
      "Computer Science Department : http://www.cs.uga.edu/\n",
      "Aston Business School : http://www.aston.ac.uk\n",
      "Florida Institute for Human and Machine Cognition : http://www.ihmc.us/\n",
      "Kno.e.sis Center : http://knoesis.wright.edu/\n",
      "Wright State University : http://www.wright.edu/\n",
      "computer science : http://www.cs.uga.edu/\n",
      "artificial intelligence : http://www.ai.uga.edu/\n",
      "Tulane University : http://www.tulane.edu/~phil/\n"
     ]
    }
   ],
   "source": [
    "for destination, link in zip (list_of_destinations,list_of_links):\n",
    "    print(destination,':',link)"
   ]
  },
  {
   "cell_type": "markdown",
   "metadata": {},
   "source": [
    "## Tokenization\n",
    "- The segmentation of a paragraph into sentences or a sentence into words\n",
    "- Tokenize into sentences: *nltk.tokenize.sent_tokenize(*text*)*\n",
    "- Tokenize into words: *nltk.tokenize.word_tokenize(*text*)*"
   ]
  },
  {
   "cell_type": "code",
   "execution_count": 51,
   "metadata": {},
   "outputs": [
    {
     "name": "stdout",
     "output_type": "stream",
     "text": [
      "\n",
      "I am the Associate Director of and an Assistant Research Scientist at UGA's Institute for Artificial Intelligence. \n",
      "\n",
      "Before that, I was a Lecturer in UGA's Computer Science Department. \n",
      "\n",
      "I've also been a research fellow at Aston Business School in Birmingham, England, a postdoc at the Florida Institute for Human and Machine Cognition and a visiting researcher in the Kno.e.sis Center of Wright State University. \n",
      "\n",
      "My research is in logic and artificial intelligence, particularly knowledge representation and nonclassical (nonmonotonic and paraconistent) reasoning. \n",
      "\n",
      "I have a PhD in computer science and a master's degree in artificial intelligence, both from UGA. \n",
      "\n",
      "Before computer science and artificial intelligence, I studied philosophy at Tulane University in New Orleans. \n",
      "\n"
     ]
    }
   ],
   "source": [
    "import nltk\n",
    "from nltk.tokenize import sent_tokenize\n",
    "\n",
    "#tokenize paragraph into sentences\n",
    "for i in sent_tokenize(raw_text):\n",
    "    print (i,'\\n')"
   ]
  },
  {
   "cell_type": "code",
   "execution_count": 52,
   "metadata": {},
   "outputs": [
    {
     "name": "stdout",
     "output_type": "stream",
     "text": [
      "['I', 'am', 'the', 'Associate', 'Director', 'of', 'and', 'an', 'Assistant', 'Research', 'Scientist', 'at', 'UGA', \"'s\", 'Institute', 'for', 'Artificial', 'Intelligence', '.']\n"
     ]
    }
   ],
   "source": [
    "from nltk.tokenize import word_tokenize\n",
    "\n",
    "#tokenize the first sentence into words\n",
    "print(word_tokenize(sent_tokenize(raw_text)[0]))"
   ]
  },
  {
   "cell_type": "markdown",
   "metadata": {},
   "source": [
    "## Web page indexing"
   ]
  },
  {
   "cell_type": "markdown",
   "metadata": {},
   "source": [
    "### Tokenize the unprocessed text and get frequency counts for each token\n",
    "- Calculate frequecy distribution of tokens: *nltk.FreqDist(*tokens*)*"
   ]
  },
  {
   "cell_type": "code",
   "execution_count": 53,
   "metadata": {},
   "outputs": [
    {
     "name": "stdout",
     "output_type": "stream",
     "text": [
      "I:4\n",
      "am:1\n",
      "the:3\n",
      "Associate:1\n",
      "Director:1\n",
      "of:2\n",
      "and:8\n",
      "an:1\n",
      "Assistant:1\n",
      "Research:1\n",
      "Scientist:1\n",
      "at:4\n",
      "UGA's:2\n",
      "Institute:2\n",
      "for:2\n",
      "Artificial:1\n",
      "Intelligence.:1\n",
      "Before:2\n",
      "that,:1\n",
      "was:1\n",
      "a:6\n",
      "Lecturer:1\n",
      "in:7\n",
      "Computer:1\n",
      "Science:1\n",
      "Department.:1\n",
      "I've:1\n",
      "also:1\n",
      "been:1\n",
      "research:2\n",
      "fellow:1\n",
      "Aston:1\n",
      "Business:1\n",
      "School:1\n",
      "Birmingham,:1\n",
      "England,:1\n",
      "postdoc:1\n",
      "Florida:1\n",
      "Human:1\n",
      "Machine:1\n",
      "Cognition:1\n",
      "visiting:1\n",
      "researcher:1\n",
      "Kno.e.sis:1\n",
      "Center:1\n",
      "Wright:1\n",
      "State:1\n",
      "University.:1\n",
      "My:1\n",
      "is:1\n",
      "logic:1\n",
      "artificial:3\n",
      "intelligence,:3\n",
      "particularly:1\n",
      "knowledge:1\n",
      "representation:1\n",
      "nonclassical:1\n",
      "(nonmonotonic:1\n",
      "paraconistent):1\n",
      "reasoning.:1\n",
      "have:1\n",
      "PhD:1\n",
      "computer:2\n",
      "science:2\n",
      "master's:1\n",
      "degree:1\n",
      "both:1\n",
      "from:1\n",
      "UGA.:1\n",
      "studied:1\n",
      "philosophy:1\n",
      "Tulane:1\n",
      "University:1\n",
      "New:1\n",
      "Orleans.:1\n"
     ]
    }
   ],
   "source": [
    "tokens = [token for token in raw_text.split()]\n",
    "frequencies = nltk.FreqDist(tokens)\n",
    "for key,val in frequencies.items():\n",
    "    print(str(key) + ':' + str(val))"
   ]
  },
  {
   "cell_type": "markdown",
   "metadata": {},
   "source": [
    "### Ten most frequent tokens in the text"
   ]
  },
  {
   "cell_type": "code",
   "execution_count": 54,
   "metadata": {},
   "outputs": [
    {
     "data": {
      "image/png": "[encoded data removed]",
      "text/plain": [
       "<Figure size 432x288 with 1 Axes>"
      ]
     },
     "metadata": {},
     "output_type": "display_data"
    }
   ],
   "source": [
    "import matplotlib.pyplot as plt\n",
    "\n",
    "frequencies.plot(10)"
   ]
  },
  {
   "cell_type": "markdown",
   "metadata": {},
   "source": [
    "### Preprocess the data\n",
    "- make all words lowercase\n",
    "- remove punctuation\n",
    "- remove words of length less than 3\n",
    "- remove words in NLTK stop word corpus\n",
    "- used for search engine indexing and improving Naive Bayes classification"
   ]
  },
  {
   "cell_type": "markdown",
   "metadata": {},
   "source": [
    "### Stop words\n",
    "- Words with little semantic weight\n",
    "- *nltk.corpus.stopwords()*"
   ]
  },
  {
   "cell_type": "code",
   "execution_count": 55,
   "metadata": {},
   "outputs": [
    {
     "name": "stdout",
     "output_type": "stream",
     "text": [
      "{'d', 'itself', 'for', 't', \"you've\", \"doesn't\", 'doing', 'nor', 'my', \"wasn't\", 'did', 'both', 'in', \"aren't\", 'doesn', 'before', 'down', 'had', 're', 'while', 'are', 'all', \"shan't\", 'than', 'against', 'been', 'because', 'after', 'that', 'at', \"shouldn't\", 'himself', 'so', 'when', 'hers', 've', \"weren't\", 'just', 'where', 'under', 'not', 'weren', 'once', 'its', 'was', \"it's\", 'why', 'by', 'each', 's', \"that'll\", 'a', 'of', 'such', \"she's\", 'herself', 'or', 'out', 'their', 'but', 'o', 'haven', 'other', 'ours', 'about', 'wouldn', 'own', 'your', 'over', 'above', 'then', 'who', 'again', \"don't\", 'needn', 'through', 'off', 'i', \"you'll\", 'here', 'now', \"mustn't\", 'too', 'with', \"hadn't\", 'there', 'him', 'some', 'if', 'won', 'those', \"needn't\", 'no', 'further', 'hasn', 'during', 'her', 'is', 'mightn', \"haven't\", 'mustn', 'whom', \"wouldn't\", \"isn't\", \"won't\", 'yourselves', 'theirs', 'does', 'same', 'which', 'can', 'you', 'his', \"couldn't\", 'themselves', 'me', 'only', 'y', 'don', 'how', 'shan', 'wasn', 'below', 'more', 'he', 'being', 'will', 'up', 'very', \"should've\", 'have', 'most', 'as', 'll', 'having', 'on', 'isn', 'hadn', 'our', \"'ve\", 'yourself', 'she', 'to', 'has', 'this', 'do', 'any', 'ain', 'aren', 'ma', 'from', \"mightn't\", 'they', 'yours', 'them', 'the', \"'s\", 'until', 'am', 'couldn', 'these', 'ourselves', 'should', 'and', \"didn't\", 'between', 'what', \"hasn't\", 'didn', 'we', 'myself', \"you'd\", 'be', 'into', 'shouldn', 'few', 'were', \"you're\", 'an', 'm', 'it'}\n"
     ]
    }
   ],
   "source": [
    "from nltk.corpus import stopwords\n",
    "stops = set(stopwords.words(\"english\"))\n",
    "stops.add(\"'s\")\n",
    "stops.add(\"'ve\")\n",
    "print(stops)"
   ]
  },
  {
   "cell_type": "code",
   "execution_count": 56,
   "metadata": {},
   "outputs": [],
   "source": [
    "#preprocessing data\n",
    "\n",
    "import re\n",
    "\n",
    "#removing punctuation\n",
    "processed_text = re.sub('[!@#$(),.]', '', raw_text)\n",
    "\n",
    "#make all tokens lower case\n",
    "processed_text = processed_text.lower()\n",
    "\n",
    "#remove words of 3 chars or less\n",
    "processed_text = ' '.join(word for word in processed_text.split() if len(word) >=3)\n",
    "    \n",
    "#tokenize the summary (turn it into a set) and remove all elements in stop words set\n",
    "tokenized = word_tokenize(processed_text)\n",
    "processed_text = [word for word in tokenized if not word in stops]\n",
    "\n",
    "#turn list back into a string\n",
    "processed_text = ' '.join(processed_text)"
   ]
  },
  {
   "cell_type": "markdown",
   "metadata": {},
   "source": [
    "### Unedited versus preprocessed text"
   ]
  },
  {
   "cell_type": "code",
   "execution_count": 57,
   "metadata": {},
   "outputs": [
    {
     "name": "stdout",
     "output_type": "stream",
     "text": [
      "\n",
      "I am the Associate Director of and an Assistant Research Scientist at UGA's Institute for Artificial Intelligence. Before that, I was a Lecturer in UGA's Computer Science Department.  I've also been a research fellow at Aston Business School in Birmingham, England, a postdoc at the Florida Institute for Human and Machine Cognition and a visiting researcher in the Kno.e.sis Center of Wright State University. \n",
      "\n",
      "My research is in logic and artificial intelligence, particularly knowledge representation and nonclassical (nonmonotonic and paraconistent) reasoning.  I have a PhD in computer science and a master's degree in artificial intelligence, both from UGA. Before computer science and artificial intelligence, I studied philosophy at Tulane University in New Orleans.\n",
      " \n",
      "\n",
      "associate director assistant research scientist uga institute artificial intelligence lecturer uga computer science department also research fellow aston business school birmingham england postdoc florida institute human machine cognition visiting researcher knoesis center wright state university research logic artificial intelligence particularly knowledge representation nonclassical nonmonotonic paraconistent reasoning phd computer science master degree artificial intelligence uga computer science artificial intelligence studied philosophy tulane university new orleans\n"
     ]
    }
   ],
   "source": [
    "#unedited text\n",
    "print (raw_text,\"\\n\")\n",
    "\n",
    "#edited text\n",
    "print(processed_text)"
   ]
  },
  {
   "cell_type": "markdown",
   "metadata": {},
   "source": [
    "### Tokenize the preprocessed text and get frequency counts for each token"
   ]
  },
  {
   "cell_type": "code",
   "execution_count": 64,
   "metadata": {},
   "outputs": [
    {
     "name": "stdout",
     "output_type": "stream",
     "text": [
      "associate:1\n",
      "director:1\n",
      "assistant:1\n",
      "research:3\n",
      "scientist:1\n",
      "uga:3\n",
      "institute:2\n",
      "artificial:4\n",
      "intelligence:4\n",
      "lecturer:1\n",
      "computer:3\n",
      "science:3\n",
      "department:1\n",
      "also:1\n",
      "fellow:1\n",
      "aston:1\n",
      "business:1\n",
      "school:1\n",
      "birmingham:1\n",
      "england:1\n",
      "postdoc:1\n",
      "florida:1\n",
      "human:1\n",
      "machine:1\n",
      "cognition:1\n",
      "visiting:1\n",
      "researcher:1\n",
      "knoesis:1\n",
      "center:1\n",
      "wright:1\n",
      "state:1\n",
      "university:2\n",
      "logic:1\n",
      "particularly:1\n",
      "knowledge:1\n",
      "representation:1\n",
      "nonclassical:1\n",
      "nonmonotonic:1\n",
      "paraconistent:1\n",
      "reasoning:1\n",
      "phd:1\n",
      "master:1\n",
      "degree:1\n",
      "studied:1\n",
      "philosophy:1\n",
      "tulane:1\n",
      "new:1\n",
      "orleans:1\n"
     ]
    }
   ],
   "source": [
    "tokens = [token for token in processed_text.split()]\n",
    "frequencies = nltk.FreqDist(tokens)\n",
    "for key,val in frequencies.items():\n",
    "    print(str(key) + ':' + str(val))"
   ]
  },
  {
   "cell_type": "markdown",
   "metadata": {},
   "source": [
    "### Ten most frequent tokens in the preprocessed text"
   ]
  },
  {
   "cell_type": "code",
   "execution_count": 59,
   "metadata": {},
   "outputs": [
    {
     "data": {
      "image/png": "[encoded data removed]",
      "text/plain": [
       "<Figure size 432x288 with 1 Axes>"
      ]
     },
     "metadata": {},
     "output_type": "display_data"
    }
   ],
   "source": [
    "frequencies.plot(10)"
   ]
  },
  {
   "cell_type": "markdown",
   "metadata": {},
   "source": [
    "### Word stemming\n",
    "- Reduces inflectional occurences and \"condenses\" context bearing tokens in a text, i.e. removing affixes and returning just the root word\n",
    "- Most common algorithm is the Porter stemmer\n",
    "- *nltk.stem.PorterStemmer()*\n",
    "- Used for search engine page indexing and for improving Naive Bayes classification"
   ]
  },
  {
   "cell_type": "code",
   "execution_count": 60,
   "metadata": {},
   "outputs": [],
   "source": [
    "from nltk.stem import PorterStemmer\n",
    "\n",
    "#instantiate a porter stemmer object\n",
    "stemmer = PorterStemmer()"
   ]
  },
  {
   "cell_type": "code",
   "execution_count": 61,
   "metadata": {},
   "outputs": [
    {
     "name": "stdout",
     "output_type": "stream",
     "text": [
      "work\n",
      "work\n"
     ]
    }
   ],
   "source": [
    "#stemming a single word\n",
    "print(stemmer.stem(\"working\"))\n",
    "print(stemmer.stem(\"works\"))"
   ]
  },
  {
   "cell_type": "code",
   "execution_count": 62,
   "metadata": {},
   "outputs": [
    {
     "name": "stdout",
     "output_type": "stream",
     "text": [
      "\n",
      "I am the Associate Director of and an Assistant Research Scientist at UGA's Institute for Artificial Intelligence. \n",
      "\n",
      "I am the associ director of and an assist research scientist at uga 's institut for artifici intellig .\n"
     ]
    }
   ],
   "source": [
    "#stemming an entire sentence\n",
    "\n",
    "sentence = (sent_tokenize(raw_text)[0])\n",
    "print(sentence,\"\\n\")\n",
    "\n",
    "#tokenize the sentence\n",
    "tokenized = word_tokenize(sentence)    \n",
    "\n",
    "#empty list for storing stemmed tokens from the sentence\n",
    "tokens = []\n",
    "for word in tokenized:\n",
    "    tokens.append(stemmer.stem(word))\n",
    "#join tokens back into string\n",
    "stemmed_sentence = ' '.join(tokens)\n",
    "\n",
    "print(stemmed_sentence)"
   ]
  },
  {
   "cell_type": "markdown",
   "metadata": {},
   "source": [
    "### Lemmatization\n",
    "- *nltk.stem.WordNetLemmatizer()*\n",
    "- A similar process to stemming, but the product is always a real word which is not always the case for stemming\n",
    "- However, it takes longer and may return a synonym instead of a root"
   ]
  },
  {
   "cell_type": "code",
   "execution_count": 63,
   "metadata": {},
   "outputs": [
    {
     "name": "stdout",
     "output_type": "stream",
     "text": [
      "increas\n",
      "increase\n"
     ]
    }
   ],
   "source": [
    "from nltk.stem import WordNetLemmatizer\n",
    "\n",
    "#e.g. \n",
    "print(stemmer.stem(\"increases\"))\n",
    "\n",
    "lemmatizer = WordNetLemmatizer()\n",
    "print (lemmatizer.lemmatize('increases'))"
   ]
  }
 ],
 "metadata": {
  "kernelspec": {
   "display_name": "Python 3",
   "language": "python",
   "name": "python3"
  },
  "language_info": {
   "codemirror_mode": {
    "name": "ipython",
    "version": 3
   },
   "file_extension": ".py",
   "mimetype": "text/x-python",
   "name": "python",
   "nbconvert_exporter": "python",
   "pygments_lexer": "ipython3",
   "version": "3.6.5"
  }
 },
 "nbformat": 4,
 "nbformat_minor": 2
}
